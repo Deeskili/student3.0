{
 "cells": [
  {
   "attachments": {},
   "cell_type": "markdown",
   "metadata": {},
   "source": [
    "---\n",
    "toc: true\n",
    "comments: True\n",
    "layout: post\n",
    "title: N@TM Review\n",
    "description:  \n",
    "type: tangibles\n",
    "courses: { compsci: {week: 23} }\n",
    "---"
   ]
  },
  {
   "cell_type": "markdown",
   "metadata": {},
   "source": [
    "<h2>Night at the Museum Review</h2>"
   ]
  },
  {
   "cell_type": "markdown",
   "metadata": {},
   "source": [
    "1. Reflection on glow/grows from your demo\n",
    "\n",
    "We managed to fix a lot of bugs since our presentation with the teacher. A few bugs include that of bettering the rossword and the tick tack toe games. We managed to include more imporved functionality to the crosswords and the tick tack toe games which help the user better their game experience overall. We also worked on the backend and got that working to a vertain level but since it is still buggy we plan to fix those errors over the course of ski week."
   ]
  },
  {
   "cell_type": "markdown",
   "metadata": {},
   "source": [
    "2.  Something that I will incliude in my next CPT project\n",
    "\n",
    "One of the major things i learned during the course of this NATM CPT project was to work more on the logic of my games. THe login were bare and really buggy in many areas so in my next NATM project I plan to make my project better is terms of both my logic and the CSS styling cause i felt i slacked off on the styling which made the page look not that good."
   ]
  },
  {
   "cell_type": "markdown",
   "metadata": {},
   "source": [
    "3. Something i saw in comp sci that impressed me\n",
    "\n",
    "I really like the mario game which one of my peers had built. The functionality of the game was really cool to watch and the way everything worked well together was also really cool. I also like Ian's group's CPT project which was a animation, one that you create uning boxes and lines, so that was pretty cool as well. I also liked the real estate finder, the wepage looked really well built and had great functionality, the job finder was pretty cool too."
   ]
  },
  {
   "cell_type": "markdown",
   "metadata": {},
   "source": [
    "4. Something I saw outisde compsci i liked\n",
    "\n",
    "I really like the drawing painting section. THe amount of passion they put into their project was honestly really cool to see. The paininting were really deatiled and honestly was hard to believe that it was a painting and not a photograph, so yeah that was really cool."
   ]
  },
  {
   "cell_type": "markdown",
   "metadata": {},
   "source": [
    "<h3>Pictures of NATM</h3>\n",
    "\n",
    "<img src=\"images/IMG_1019 2.jpeg\"><br>\n",
    "<img src=\"images/IMG_1020 2.jpeg\"><br>\n",
    "<img src=\"images/IMG_1032 2.jpeg\"><br>\n",
    "<img src=\"images/IMG_1033 2.jpeg\"><br>\n",
    "<img src=\"images/IMG_1034 2.jpeg\"><br>"
   ]
  }
 ],
 "metadata": {
  "kernelspec": {
   "display_name": "Python 3.9.12 ('base')",
   "language": "python",
   "name": "python3"
  },
  "language_info": {
   "name": "python",
   "version": "3.9.12 (main, Apr  5 2022, 01:53:17) \n[Clang 12.0.0 ]"
  },
  "orig_nbformat": 4,
  "vscode": {
   "interpreter": {
    "hash": "8b82d5009c68ba5675978267e2b13a671f2a7143d61273c5a3813c97e0b2493d"
   }
  }
 },
 "nbformat": 4,
 "nbformat_minor": 2
}
