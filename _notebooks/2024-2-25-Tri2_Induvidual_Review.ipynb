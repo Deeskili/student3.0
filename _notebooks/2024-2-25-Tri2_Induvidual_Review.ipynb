{
 "cells": [
  {
   "attachments": {},
   "cell_type": "markdown",
   "metadata": {},
   "source": [
    "---\n",
    "toc: true\n",
    "comments: True\n",
    "layout: post\n",
    "title: Trimester 2 Induvidual Review\n",
    "description:  \n",
    "type: tangibles\n",
    "courses: { compsci: {week: 24} }\n",
    "---"
   ]
  },
  {
   "cell_type": "markdown",
   "metadata": {},
   "source": [
    "<h2>Trimester 2 Induvidual Review Blog</h2>"
   ]
  },
  {
   "cell_type": "markdown",
   "metadata": {},
   "source": [
    "<h3>Project Overview: Game Console</h3>\n",
    "\n",
    "**Team: Cayden, Saaras, Eric, Austin**\n",
    "\n",
    "\n",
    "Our CPT project was focused on creating a user friendly game dashboard populated with as many games as possible for the user to sign in and play at their lesiure. Inital planning inclded that of a facial recognizition software through which the user signs in and enters their induvidual game dashboard wherein they can play a multitute of games as per their liking.\n",
    "<br>\n",
    "Throughout the journey of this project we faced quite a few errors and bugs which we managed to fix by Night at the Musuem. Our games plethera of games include those such as, tic tak toe, mathnopoly, crossword, bakkarat, spin the wheel and many more.\n"
   ]
  },
  {
   "cell_type": "markdown",
   "metadata": {},
   "source": [
    "<h3>My Feature: Tic Tac Toe & Crosswords</h3>\n",
    "\n",
    "**Crosswords**\n",
    "\n",
    "For the game dashboard i worked on two games, tic tac toe and crosswords. They two games are known many many and work in a simple way. The tic tac toe game uses user input by assigning X or O to the user and then using a pre defined set of mapping it checks for the 3 down or acorss or diagonnal pattern for the win. A harder version calcualtes the player's move and according plays the ai to make sure the player does not win. A sort of check function which as the name suggests checks if the user is close to winning and plays accrodingly.\n",
    "\n",
    "**Tic Tac Toe**\n",
    "\n",
    "For the crosswords, it was not the exact gameplay of regular crossword but rather a rip off. The user is prompted with hints for the word and it given a timer to figure out the word. Alltough a bit buggy the corssword game aims to check for hte user's skill in identifying the words rather than being dependent on the board itslef. Overall with the hint the user must guess a certain amount of words in a specific amount of time."
   ]
  },
  {
   "cell_type": "markdown",
   "metadata": {},
   "source": [
    "<h3>Crosswords</h3>\n",
    "\n",
    "**Component A: Program Code**"
   ]
  },
  {
   "cell_type": "code",
   "execution_count": null,
   "metadata": {
    "vscode": {
     "languageId": "html"
    }
   },
   "outputs": [],
   "source": [
    "<html>\n",
    "    <body>\n",
    "        <table>\n",
    "            <thead>\n",
    "            <tr>\n",
    "                <th>Requirments</th>\n",
    "                <th>Completed</th>\n",
    "                </tr>\n",
    "            </thead>\n",
    "            <tbody>\n",
    "                <tr>\n",
    "                    <td>Instructions for input from the user (including user actions that trigger events)</td>\n",
    "                    <td>\n",
    "                        \"The check answer function takes the answer inputted into the user box and compares it with the mapping that exist in the code above. I fhte answer is correct the user is allowed to move on to the next hint and the correct word in displayed on the crossword box and if the suer in incorrect then the screen prompts them to recheck their answer or they are allowed to give up using the give up button which links to another function that links the correct word to an alert and the corssword box. THe check fucniton is as below.\"\n",
    "                        <img src=\"https://github.com/srivaidyas/student2.0/blob/main/images/Screenshot%202024-02-25%20at%207.50.53%E2%80%AFPM.png\">\n",
    "                        \"Focusing on the two main aspects of this code that really take into consideration the user input\"\n",
    "                        <img>\n",
    "                        <img>\n",
    "                        1. The checkAnswer() function retrieves the value entered by the user in the input box using document.querySelector('.input-box').value.trim().toUpperCase(). \n",
    "                        2. An event listener is set up to listen for keyup events in the input box. When the user presses the Enter key, the checkAnswer() function is called to check the user's answer.\n",
    "                        3. THe answer is cross referenced along iwht the provided mappings for the correct answer\n",
    "                        4. Subsequent actions are triggered\n",
    "                    </td>\n",
    "                </tr>\n",
    "            </tbody>\n",
    "        </table>\n",
    "    </body>"
   ]
  }
 ],
 "metadata": {
  "kernelspec": {
   "display_name": "Python 3.9.12 ('base')",
   "language": "python",
   "name": "python3"
  },
  "language_info": {
   "name": "python",
   "version": "3.9.12 (main, Apr  5 2022, 01:53:17) \n[Clang 12.0.0 ]"
  },
  "orig_nbformat": 4,
  "vscode": {
   "interpreter": {
    "hash": "8b82d5009c68ba5675978267e2b13a671f2a7143d61273c5a3813c97e0b2493d"
   }
  }
 },
 "nbformat": 4,
 "nbformat_minor": 2
}
