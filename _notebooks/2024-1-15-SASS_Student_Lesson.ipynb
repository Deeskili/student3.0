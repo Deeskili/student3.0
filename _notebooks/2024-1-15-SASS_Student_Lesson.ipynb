{
 "cells": [
  {
   "cell_type": "markdown",
   "metadata": {},
   "source": [
    "---\n",
    "toc: true\n",
    "comments: false\n",
    "layout: post\n",
    "title: Introduction to SASS\n",
    "description: SASS Student Lesson\n",
    "type: tangibles \n",
    "courses: { compsci: {week: 19} }\n",
    "---"
   ]
  },
  {
   "cell_type": "markdown",
   "metadata": {},
   "source": [
    "<h2> SASS: Syntactically Awesome Stylesheets</h2><br>"
   ]
  },
  {
   "cell_type": "markdown",
   "metadata": {},
   "source": [
    "<center><img src= \"https://upload.wikimedia.org/wikipedia/commons/thumb/9/96/Sass_Logo_Color.svg/1024px-Sass_Logo_Color.svg.png\" width =\"200\" height = \"100\"></center>"
   ]
  },
  {
   "cell_type": "markdown",
   "metadata": {},
   "source": [
    "<br>\n",
    "\n",
    "<h4>What is SASS?</h4>\n",
    "\n",
    "SASS is a preprocessor scripting language that is interpreted or compiled into CSS. Any preprocessor language takes input data and converts it to an output that’s used as input by another program. In other words when you run a SASS code you are actually converting your code into CSS which is then sued by the browser. "
   ]
  },
  {
   "cell_type": "markdown",
   "metadata": {},
   "source": [
    "**Understanding differences: CSS V/S SASS**\n",
    "\n",
    "- CSS: Cascading style sheets or CSS is the standard styling language for the web which provides a simple and direct syntax for styling HTML elements.\n",
    "\n",
    "- However , it lacks certain features found in preprocessors like Sass, making it less understandable and difficult to work with."
   ]
  },
  {
   "cell_type": "code",
   "execution_count": null,
   "metadata": {
    "vscode": {
     "languageId": "html"
    }
   },
   "outputs": [],
   "source": [
    "// Basic CSS Code\n",
    "\n",
    "body {\n",
    "  font-family: Arial, sans-serif;\n",
    "  background-color: #f0f0f0;\n",
    "}\n",
    "\n",
    "header {\n",
    "  background-color: #333;\n",
    "  color: white;\n",
    "  padding: 10px;\n",
    "}"
   ]
  },
  {
   "cell_type": "markdown",
   "metadata": {},
   "source": [
    "- SASS: SASS is a powerful preprocessor scripting language that enhances CSS with advanced features. Sass enhances the capabilities of CSS by introducing variables, nesting, and mixins. \n",
    "- Sass code needs to be compiled into standard CSS for browsers to interpret and this provides a more efficient way to style pages.\n"
   ]
  },
  {
   "cell_type": "code",
   "execution_count": null,
   "metadata": {
    "vscode": {
     "languageId": "html"
    }
   },
   "outputs": [],
   "source": [
    "// Basic SASS Code\n",
    "\n",
    "$font-family: Arial, sans-serif;\n",
    "$background-color: #f0f0f0;\n",
    "$main-color: #333;\n",
    "$link-color: #444;\n",
    "$border-color: #ddd;\n",
    "\n",
    "body {\n",
    "  font-family: $font-family;\n",
    "  background-color: $background-color;\n",
    "}\n",
    "\n",
    "header {\n",
    "  background-color: $main-color;\n",
    "  color: white;\n",
    "  padding: 10px;\n",
    "}"
   ]
  },
  {
   "cell_type": "markdown",
   "metadata": {},
   "source": [
    "### <font color = \"Green\">Popcorn Hack 1:</font> \n",
    "\n",
    "Write a line of code to compare CSS and SASS. Must be similar is both languages. Show how SASS and CSS are similar but different.\n",
    "\n",
    "<mark>// Your code here</mark>"
   ]
  },
  {
   "cell_type": "markdown",
   "metadata": {},
   "source": [
    "<h4>Benifits of SASS over CSS</h4>\n",
    "\n",
    "1. Improved Code Organization\n",
    "\n",
    "     - Nesting Capabilities:  Sass organizes styles like a neat notebook, mirroring HTML structure for clarity.\n",
    "     - Modular Approach: Break styles into smaller files, like building blocks, for a cleaner and more organized project.\n",
    "\n",
    "2. Maintainability\n",
    "\n",
    "     - Use of Variables: Easily update colors and fonts with name-tag-like variables.\n",
    "     - Mixins for Reusable Code: Create styles once, reuse them everywhere.\n",
    "     - Extend/Inheritance: Share styles among elements to avoid repetition.\n",
    "\n",
    "3. Advanced Features\n",
    "\n",
    "     - Control Directives: Add conditions to styles for more flexibility.\n",
    "     - Built-in Functions: Use Sass tools for colors and math in styles.    \n",
    "     - Compatibility: Sass handles browser differences, ensuring a consistent look across all browsers.\n",
    "\n",
    "4. Preprocessing:\n",
    "\n",
    "     - Compilation: Translate Sass to standard CSS for browsers.\n",
    "     - Usage: Command Sass to compile styles effortlessly.\n",
    "     - Watching Files: Sass auto-updates styles as you make changes, simplifying the process."
   ]
  },
  {
   "cell_type": "markdown",
   "metadata": {},
   "source": [
    "<h4>Nesting</h4>"
   ]
  },
  {
   "cell_type": "markdown",
   "metadata": {},
   "source": [
    "<center><img src = \"https://www.lyricbirdfood.com/media/1059/gettyimages-502665425.jpg?crop=0.43408360128617363,0.23585711414790997,0.083601286173633438,0.38690356568672479&cropmode=percentage&width=700&height=365&rnd=132084484540000000\" width =\"300\" height= \"150\"></center>"
   ]
  },
  {
   "cell_type": "markdown",
   "metadata": {},
   "source": [
    "No, not that type of nesting\n",
    "\n",
    "-<mark> Nesting:</mark> Nesting in coding, especially in stylesheets like SASS, is a way of organizing code by putting one selector inside another. Sort of a hirarchy in structure."
   ]
  },
  {
   "cell_type": "code",
   "execution_count": null,
   "metadata": {
    "vscode": {
     "languageId": "html"
    }
   },
   "outputs": [],
   "source": [
    "// Nesting example\n",
    "\n",
    "article {\n",
    "  border: 1px solid #ccc;\n",
    "\n",
    "  h2 {\n",
    "    font-size: 20px;\n",
    "    color: #555;\n",
    "  }\n",
    "\n",
    "  p {\n",
    "    font-size: 16px;\n",
    "    color: #333;\n",
    "    margin-bottom: 10px;\n",
    "  }\n",
    "\n",
    "  a {\n",
    "    text-decoration: underline;\n",
    "    color: #007bff;\n",
    "  }\n",
    "}"
   ]
  },
  {
   "cell_type": "markdown",
   "metadata": {},
   "source": [
    "<h3>Advanced SASS</h3>"
   ]
  },
  {
   "cell_type": "markdown",
   "metadata": {},
   "source": [
    "1. Operators\n",
    "    - Operators act as powerful tools in Python and SASS, allowing you to perform operations like checking equality, basic arithmetic (addition, subtraction, multiplication, and division), and in SASS, combining and rearranging values. They're like the building blocks that help you manipulate and transform data in your code, making it flexible and dynamic. "
   ]
  },
  {
   "cell_type": "markdown",
   "metadata": {},
   "source": [
    "**Operators Reference Table**\n",
    "\n",
    "<center>\n",
    "\n",
    "<table>\n",
    "  <tr>\n",
    "    <th>Operator</th>\n",
    "    <th>Definition</th>\n",
    "  </tr>\n",
    "  <tr>\n",
    "    <td>==</td>\n",
    "    <td>Check if two values are equal</td>\n",
    "  </tr>\n",
    "  <tr>\n",
    "    <td>!=</td>\n",
    "    <td>Check if two values are not equal</td>\n",
    "  </tr>\n",
    "  <tr>\n",
    "    <td>+</td>\n",
    "    <td>Add two values together</td>\n",
    "  </tr>\n",
    "  <tr>\n",
    "    <td>-</td>\n",
    "    <td>Subtract two values</td>\n",
    "  </tr>\n",
    "  <tr>\n",
    "    <td>*</td>\n",
    "    <td>Multiply two values</td>\n",
    "  </tr>\n",
    "  <tr>\n",
    "    <td>/</td>\n",
    "    <td>Divide two values</td>\n",
    "  </tr>\n",
    "  <tr>\n",
    "    <td>%</td>\n",
    "    <td>Find the remainder of two values</td>\n",
    "  </tr>\n",
    "  <tr>\n",
    "    <td>&lt;</td>\n",
    "    <td>Check if one value is less than another</td>\n",
    "  </tr>\n",
    "  <tr>\n",
    "    <td>&gt;</td>\n",
    "    <td>Check if one value is greater than another</td>\n",
    "  </tr>\n",
    "  <tr>\n",
    "    <td>&lt;=</td>\n",
    "    <td>Check if one value is less than or equal to another</td>\n",
    "  </tr>\n",
    "  <tr>\n",
    "    <td>&gt;=</td>\n",
    "    <td>Check if one value is greater than or equal to another</td>\n",
    "  </tr>\n",
    "</table>\n",
    "\n",
    "</center>\n"
   ]
  },
  {
   "cell_type": "code",
   "execution_count": null,
   "metadata": {
    "vscode": {
     "languageId": "html"
    }
   },
   "outputs": [],
   "source": [
    "// Variables\n",
    "$firstName: \"John\";\n",
    "$lastName: \"Doe\";\n",
    "\n",
    "// String concatenation using whitespace\n",
    "$fullName: $firstName + \" \" + $lastName;\n",
    "\n",
    "#testing {\n",
    "  content: $fullName;\n",
    "}"
   ]
  },
  {
   "cell_type": "markdown",
   "metadata": {},
   "source": [
    "**Intended Answer:**\n",
    "content: John Doe\n"
   ]
  },
  {
   "cell_type": "markdown",
   "metadata": {},
   "source": [
    "2. Conditional Statments:\n",
    "    - Conditional statements in SASS work and function the same way they do in Python and Javascript. Conditional statements are used to perform different actions based on different conditions."
   ]
  },
  {
   "cell_type": "code",
   "execution_count": null,
   "metadata": {
    "vscode": {
     "languageId": "html"
    }
   },
   "outputs": [],
   "source": [
    "// example code\n",
    "\n",
    "$grade: 85;\n",
    "\n",
    ".button {\n",
    "  @if $grade >= 90 {\n",
    "    background-color: green;\n",
    "    color: white;\n",
    "    border: 2px solid darkgreen;\n",
    "  } @else if $grade >= 80 {\n",
    "    background-color: yellow;\n",
    "    color: darkgray;\n",
    "    border: 2px solid goldenrod;\n",
    "  } @else {\n",
    "    background-color: red;\n",
    "    color: white;\n",
    "    border: 2px solid darkred;\n",
    "  }\n",
    "}"
   ]
  },
  {
   "cell_type": "markdown",
   "metadata": {},
   "source": [
    "### <font color = \"Green\">Popcorn Hack 2:</font> \n",
    "\n",
    "Write a simple SASS code to highlight a message box according to it's result, green for success, yellow for warning and red for an error. Use the variable \"$message-type\". Make sure to use @if, @else and @else if statements.\n",
    "\n",
    "<mark>// Your code here</mark>"
   ]
  },
  {
   "cell_type": "markdown",
   "metadata": {},
   "source": [
    "3. Loops in SASS\n",
    "    - In SASS, loops are facilitated by the <mark>@for, @while, and @each decorators</mark>. Similar to other programming languages, loops enable the repetition of a code block either for a specified number of iterations or until a particular condition is satisfied. \n",
    "        - For loops are iterate through a given value, like a list or a range of numbers.\n",
    "        - While loops iterate through a block of code until a specific condition is met"
   ]
  },
  {
   "cell_type": "code",
   "execution_count": null,
   "metadata": {
    "vscode": {
     "languageId": "html"
    }
   },
   "outputs": [],
   "source": [
    "// Example code\n",
    "\n",
    "$alignments: left, center, right;\n",
    "\n",
    "@each $alignment in $alignments {\n",
    "  .text-#{$alignment} {\n",
    "    text-align: $alignment;\n",
    "  }\n",
    "}"
   ]
  },
  {
   "cell_type": "code",
   "execution_count": null,
   "metadata": {
    "vscode": {
     "languageId": "html"
    }
   },
   "outputs": [],
   "source": [
    "// Expected output\n",
    "\n",
    ".text-left {\n",
    "    text-align: left;\n",
    "  }\n",
    "  \n",
    "  .text-center {\n",
    "    text-align: center;\n",
    "  }\n",
    "  \n",
    "  .text-right {\n",
    "    text-align: right;\n",
    "  }"
   ]
  },
  {
   "cell_type": "markdown",
   "metadata": {},
   "source": [
    "### <font color = \"Green\">Popcorn Hack 3:</font> \n",
    "\n",
    "Write a simple SASS code that defines three different font sizes, which iterates over the same line distance of 1.5.\n",
    "\n",
    "<mark>// Your code here</mark>"
   ]
  },
  {
   "cell_type": "markdown",
   "metadata": {},
   "source": [
    "<h4>SASS Functions</h4>"
   ]
  },
  {
   "cell_type": "markdown",
   "metadata": {},
   "source": [
    "Last but not the least SASS functions. \n",
    "\n",
    "- SASS functions are invalvuable tools in stylesheets. They help perform complex calcualtions and manipulate data as well as generate content dynamically. Some functions are built in but there are also a few that you can make on your own. \n",
    "- They can be used to perform arithmetic operations, manipulate colors, work with strings, and more.\n"
   ]
  },
  {
   "cell_type": "markdown",
   "metadata": {},
   "source": [
    "**Built in Functions**"
   ]
  },
  {
   "cell_type": "markdown",
   "metadata": {},
   "source": [
    "1. Math Functions\n",
    "    - SASS has a range of functions that help perform complex math problems in code\n",
    "\n",
    "2. Color Functions\n",
    "    - Functions allow you to manipulate colors in different ways\n",
    "\n",
    "3. String Functions\n",
    "    - SASS provides a variety of string functions that allow you to manipulate strings."
   ]
  },
  {
   "cell_type": "markdown",
   "metadata": {},
   "source": [
    "**Creating Custom Functions**\n",
    "\n",
    "In addition to built in functions one can also create custom functions with pre exisiting operators and the @return function.\n"
   ]
  },
  {
   "cell_type": "markdown",
   "metadata": {},
   "source": [
    "### <font color = \"Green\">Homework</font> \n",
    "\n",
    "1. Write a simple SASS code that creates a custom function and calcualtes the area of a circle. Remember to use the @return function.\n",
    "\n",
    "<mark>// Your code here</mark>"
   ]
  },
  {
   "cell_type": "markdown",
   "metadata": {},
   "source": [
    "Send the 3 popcorn hacks and the homework question to Sri Vaidyanthan S by ________"
   ]
  }
 ],
 "metadata": {
  "kernelspec": {
   "display_name": "Python 3",
   "language": "python",
   "name": "python3"
  },
  "language_info": {
   "codemirror_mode": {
    "name": "ipython",
    "version": 3
   },
   "file_extension": ".py",
   "mimetype": "text/x-python",
   "name": "python",
   "nbconvert_exporter": "python",
   "pygments_lexer": "ipython3",
   "version": "3.11.6"
  },
  "orig_nbformat": 4
 },
 "nbformat": 4,
 "nbformat_minor": 2
}
