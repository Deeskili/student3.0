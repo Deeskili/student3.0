{
 "cells": [
  {
   "cell_type": "markdown",
   "metadata": {},
   "source": [
    "---\n",
    "toc: true\n",
    "comments: false\n",
    "layout: post\n",
    "title: CPT Ideation\n",
    "description: \n",
    "type: hacks \n",
    "courses: { compsci: {week: 18} }\n",
    "image: images/ideation-process-vancouver-calgary-1024x508.jpg\n",
    "---"
   ]
  },
  {
   "cell_type": "markdown",
   "metadata": {},
   "source": [
    "<h2>CPT Project Ideation</h2>"
   ]
  },
  {
   "cell_type": "markdown",
   "metadata": {},
   "source": [
    "\n",
    "**Project: Facial Recognition software login system paired with a verion of Monopoly**"
   ]
  },
  {
   "cell_type": "markdown",
   "metadata": {},
   "source": [
    "**Part 1: Functioning of the Facial Recognition login system**"
   ]
  },
  {
   "cell_type": "markdown",
   "metadata": {},
   "source": [
    "- The facial login system aims to recogize the facial pattern on an induvidual registered into the system, and allow them acces into their unique login\n",
    "- The login system won't require any passwords but rather would store the details of one's face into the backend system.\n",
    "- This backend server with the registered user would thereby recognize the person's face and allow acces into their unique login.\n"
   ]
  },
  {
   "cell_type": "markdown",
   "metadata": {},
   "source": [
    "**Working of a facial recognization software**"
   ]
  },
  {
   "cell_type": "markdown",
   "metadata": {},
   "source": [
    "A facial recognization software has 4 major steps for allowed access for the user.\n",
    "\n",
    "1. Face detection: The software first located the face with the frame of the camera or video frame\n",
    "2. Feature Extraction: It analyzes facial feautures like the eyes, nose and mouth and converts into into data\n",
    "3. Database comparison: The extracted data is then compared to a database of know and registered facial data\n",
    "4. Mathcing algorithm: An algorithm searches across the database for a correct match\n",
    "5. Results: The user is allowed or denied acces depeding on the algorithm search and their login page is displayed accrodingly from the data that is fetched.\n",
    "<br><br>"
   ]
  },
  {
   "cell_type": "markdown",
   "metadata": {},
   "source": [
    "**Login Screen Processing**\n",
    "\n",
    "- We plan to have accurate and measurable safety features for the login screen\n",
    "- With Valid CSRF Token Process, SQL Injection Prevention, Password Complexity Checker etc\n"
   ]
  },
  {
   "cell_type": "markdown",
   "metadata": {},
   "source": [
    "**Part 2: Monopoly based board game**"
   ]
  },
  {
   "cell_type": "markdown",
   "metadata": {},
   "source": [
    "\n",
    "The second part of this project details what is to be give after the person logs into the page. We plan to create a monopoly based board game. This game unlike monopoly which have simple card and motor functions. In this Monopoly variation, players roll dice to move, gaining or losing money at each step. A computer opponent also moves randomly. Steal Money cards add strategy, offering chances to gain or lose cash. Random Event cards introduce choices like moving forward or backward. The goal is to reach $1000 first. The backend system manages user data and a leaderboard, tracking progress and showcasing financial success. "
   ]
  },
  {
   "cell_type": "markdown",
   "metadata": {},
   "source": [
    "**Part 2A: Desigining the game**\n",
    "\n",
    "1. The board: The design of the board is said to be done is code with each box defined for its color of for its property.\n",
    "2. The cards: The cards are a part of the board sqaures and are part of the user's ability of move throught the spaces. The cards are dynamic but one played, an if - then senario is meant to be used to continue the game.\n",
    "3. The players: The players in the this game are the user themself and a robot opponent. The opponent is mostly likely a programmable software which plays agains the user for better engagment.\n",
    "4. Winning or Loosing: The sole purpose of the game is for either end of play to reach $1000 first.\n",
    "5. Role of User: The user only need to click a rool the dice button which enact gameplay on its own. We wish to minimize as much user interference as possible sticking to only rolling the dice which is said to be random as well.\n",
    "6. Keeping tally of score: Each game will be recorded with win or loss statistics along with the time taken to reach said conlcusion as well. \n",
    "7. Login Page: The login page is designed to not only have the monopoly based game but also statistics of the user's past game play. We plan to use a backend database such as SQLITE to store the data from precious gameplays and also manage to link it to the facial recognition software so that the correct statisitics are matched with the correct user.\n",
    "8. Random Events: If the first part of this code works we plan to also include random events that either encourage gameplay or disupt it entirely. "
   ]
  },
  {
   "cell_type": "markdown",
   "metadata": {},
   "source": [
    "**Part 2B: Unique Cards**\n",
    "\n",
    "- Move space card: This card moves the user the set number of spaces either forward or backward\n",
    "- Money card: This card allows the user to either gain or loose money\n",
    "- Steal money card: This allows the user to \"steal\" money from the opponent\n",
    "- Teleportation card: Allows the user to teleport to a unique place on the board\n",
    "- Double income card: Double the user's total momney at the mooment\n",
    "- Double jeprody: Takes off double of what the user has pushing them into a negetive zone\n",
    "- 0 card: Resets the user's total moneyback to 0 \n",
    "- 1000 card: instant win for the user\n",
    "- Kill Zone: Alows for the user to \"kill\" the opponent or take away all their money\n",
    "\n",
    "*More ideas for card will be added as the gameplay progresses*\n"
   ]
  },
  {
   "cell_type": "markdown",
   "metadata": {},
   "source": [
    "**Part 2C: Code ideas for the gameplay**"
   ]
  },
  {
   "cell_type": "markdown",
   "metadata": {},
   "source": [
    "**1. Board Layout**"
   ]
  },
  {
   "cell_type": "code",
   "execution_count": null,
   "metadata": {
    "vscode": {
     "languageId": "plaintext"
    }
   },
   "outputs": [],
   "source": [
    "class MonopolyBoard:\n",
    "    def __init__(self):\n",
    "        self.spaces = [\n",
    "            {\"type\": \"start\", \"name\": \"Start\"},\n",
    "            {\"type\": \"property\", \"name\": \"Property 1\", \"cost\": 100, \"rent\": 20},\n",
    "            {\"type\": \"move\", \"name\": \"Move Space\", \"steps\": 2},\n",
    "            {\"type\": \"money\", \"name\": \"Money Card\", \"amount\": 50},\n",
    "            # Add more spaces as needed\n",
    "        ]\n",
    "\n",
    "    def get_space_info(self, position):\n",
    "        return self.spaces[position]\n",
    "\n",
    "# Example usage:\n",
    "monopoly_board = MonopolyBoard()\n",
    "\n",
    "# Accessing space information at position 2\n",
    "space_info = monopoly_board.get_space_info(2)\n",
    "print(space_info)\n"
   ]
  },
  {
   "cell_type": "markdown",
   "metadata": {},
   "source": [
    "**2. Dice gameplay**"
   ]
  },
  {
   "cell_type": "code",
   "execution_count": null,
   "metadata": {
    "vscode": {
     "languageId": "plaintext"
    }
   },
   "outputs": [],
   "source": [
    "import random\n",
    "\n",
    "def roll_dice():\n",
    "    input(\"Press Enter to roll the dice...\")\n",
    "    result = random.randint(1, 6)\n",
    "    print(f\"You rolled a {result}\")\n",
    "    return result\n",
    "\n",
    "# Example usage:\n",
    "user_roll = roll_dice()\n"
   ]
  },
  {
   "cell_type": "markdown",
   "metadata": {},
   "source": [
    "**3. Card Gameplay**\n",
    "\n",
    "Given the senario that the player gains $50 after the gameplay"
   ]
  },
  {
   "cell_type": "code",
   "execution_count": null,
   "metadata": {
    "vscode": {
     "languageId": "plaintext"
    }
   },
   "outputs": [],
   "source": [
    "class Player:\n",
    "    def __init__(self, name):\n",
    "        self.name = name\n",
    "        self.money = 0\n",
    "\n",
    "# Card gameplay\n",
    "def play_money_card(player):\n",
    "    card_value = 50\n",
    "    player.money += card_value\n",
    "    print(f\"{player.name} gained ${card_value}. Total money: ${player.money}\")\n",
    "\n",
    "# Example usage:\n",
    "player1 = Player(\"Player1\")\n",
    "play_money_card(player1)\n"
   ]
  },
  {
   "cell_type": "markdown",
   "metadata": {},
   "source": [
    "**4. Robot Opponent**"
   ]
  },
  {
   "cell_type": "code",
   "execution_count": null,
   "metadata": {
    "vscode": {
     "languageId": "plaintext"
    }
   },
   "outputs": [],
   "source": [
    "class Player:\n",
    "    def __init__(self, name):\n",
    "        self.name = name\n",
    "        self.money = 0\n",
    "\n",
    "def roll_dice():\n",
    "    return random.randint(1, 6)\n",
    "\n",
    "def play_turn(player):\n",
    "    steps = roll_dice()\n",
    "    player.money += steps * 10  # Simulating earning money based on dice roll\n",
    "    print(f\"{player.name} rolled a {steps} and earned ${steps * 10}. Total money: ${player.money}\")\n",
    "\n",
    "def robot_opponent_turn():\n",
    "    steps = roll_dice()\n",
    "    robot_money = steps * 10  # Simulating robot earning money based on dice roll\n",
    "    print(f\"Robot opponent rolled a {steps} and earned ${robot_money}.\")\n",
    "\n",
    "# Example usage:\n",
    "player1 = Player(\"Player1\")\n",
    "\n",
    "# Player's turn\n",
    "play_turn(player1)\n",
    "\n",
    "# Robot opponent's turn\n",
    "robot_opponent_turn()\n"
   ]
  },
  {
   "cell_type": "markdown",
   "metadata": {},
   "source": [
    "**Part 3: Group Assignments**\n",
    "\n",
    "Group Assignments divided amongst the people"
   ]
  },
  {
   "cell_type": "markdown",
   "metadata": {},
   "source": [
    "<html>\n",
    "  <table>\n",
    "    <tr>\n",
    "      <th>Name</th>\n",
    "      <th>Project Work</th>\n",
    "    </tr>\n",
    "    <tr>\n",
    "      <td>Austin</td>\n",
    "      <td>Monopoly board and gameplay designed and coded</td>\n",
    "    </tr>\n",
    "    <tr>\n",
    "      <td>Eric</td>\n",
    "      <td>Facial Recognition and backend storage</td>\n",
    "    </tr>\n",
    "    <tr>\n",
    "      <td>Saaras</td>\n",
    "      <td>Facial Recognition and backend storage</td>\n",
    "    </tr>\n",
    "    <tr>\n",
    "      <td>Cayden</td>\n",
    "      <td>Monopoly board and gameplay designed and coded</td>\n",
    "    </tr>\n",
    "    <tr>\n",
    "      <td>Sri</td>\n",
    "      <td>Monopoly board and gameplay designed and coded</td>\n",
    "    </tr>\n",
    "  </table>\n",
    "</html>\n"
   ]
  },
  {
   "cell_type": "markdown",
   "metadata": {},
   "source": [
    "<center><iframe style=\"border: 1px solid rgba(0, 0, 0, 0.1);\" width=\"1000\" height=\"550\" src=\"https://www.figma.com/embed?embed_host=share&url=https%3A%2F%2Fwww.figma.com%2Ffile%2FcODpACkBAMJFpxXwB25EES%2FUntitled%3Ftype%3Ddesign%26node-id%3D0%253A1%26mode%3Ddesign%26t%3DGRnmhBZl7c4kFD3P-1\" allowfullscreen></iframe></center>"
   ]
  }
 ],
 "metadata": {
  "language_info": {
   "name": "python"
  },
  "orig_nbformat": 4
 },
 "nbformat": 4,
 "nbformat_minor": 2
}
