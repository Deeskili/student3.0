{
 "cells": [
  {
   "attachments": {},
   "cell_type": "markdown",
   "metadata": {},
   "source": [
    "---\n",
    "toc: true\n",
    "comments: false\n",
    "layout: post\n",
    "title: CSP Quiz Review Ticket\n",
    "description:  \n",
    "type: tangibles\n",
    "courses: { compsci: {week: 21} }\n",
    "---"
   ]
  },
  {
   "cell_type": "markdown",
   "metadata": {},
   "source": [
    "<h2>Review Ticket</h2>"
   ]
  },
  {
   "cell_type": "markdown",
   "metadata": {},
   "source": [
    "Database with Schema Changes"
   ]
  },
  {
   "cell_type": "code",
   "execution_count": null,
   "metadata": {
    "vscode": {
     "languageId": "plaintext"
    }
   },
   "outputs": [],
   "source": [
    "class User(db.Model):\n",
    "    id = db.Column(db.Integer, primary_key=True)\n",
    "    username = db.Column(db.String(128), unique=True, nullable=False)\n",
    "    password = db.Column(db.String(128), nullable=False)\n",
    "\n",
    "    def serialize(self):\n",
    "        return {\n",
    "            \"id\": self.id,\n",
    "            \"username\": self.username,\n",
    "            \"password\": self.password\n",
    "        }"
   ]
  },
  {
   "cell_type": "markdown",
   "metadata": {},
   "source": [
    "Initialization Code"
   ]
  },
  {
   "cell_type": "code",
   "execution_count": null,
   "metadata": {
    "vscode": {
     "languageId": "plaintext"
    }
   },
   "outputs": [],
   "source": [
    "from flask import Flask, jsonify, request\n",
    "from flask_sqlalchemy import SQLAlchemy\n",
    "from flask_restful import Resource, Api\n",
    "from flask_cors import CORS\n",
    "\n",
    "app = Flask(__name__)\n",
    "CORS(app, resources={ r\"/users/*\": {\"origins\": [\"http://127.0.0.1:4100\", \"https://srivaidyas.github.io\"]},\n",
    "    r\"/login/*\": {\"origins\": [\"http://127.0.0.1:4100\", \"https://srivaidyas.github.io\"]},\n",
    "    r\"/users\": {\"origins\": [\"http://127.0.0.1:4100\", \"https://srivaidyas.github.io\"]}})\n",
    "app.config['SQLALCHEMY_DATABASE_URI'] = 'sqlite:///users.db'  # SQLite database file named users.db\n",
    "db = SQLAlchemy(app)\n",
    "api = Api(app)\n"
   ]
  },
  {
   "cell_type": "markdown",
   "metadata": {},
   "source": [
    "Demonstrations\n",
    "\n",
    "- Demo delete and adding the database\n",
    "- Postman checks\n",
    "- Login fucntion\n",
    "- Register user function\n"
   ]
  },
  {
   "cell_type": "markdown",
   "metadata": {},
   "source": [
    "Calling functions\n",
    "1. Registering users"
   ]
  },
  {
   "cell_type": "code",
   "execution_count": null,
   "metadata": {
    "vscode": {
     "languageId": "plaintext"
    }
   },
   "outputs": [],
   "source": [
    "function registerUser() {\n",
    "      const newUsername = document.getElementById(\"newUsernameInput\").value;\n",
    "      const newPassword = document.getElementById(\"newPasswordInput\").value;\n",
    "\n",
    "      // Make a POST request to register a new user\n",
    "      fetch('http://127.0.0.1:5000/users', {\n",
    "        method: 'POST',\n",
    "        headers: {\n",
    "          'Content-Type': 'application/json',\n",
    "        },\n",
    "        body: JSON.stringify({\n",
    "          username: newUsername,\n",
    "          password: newPassword,\n",
    "        }),\n",
    "      })\n",
    "      .then(response => response.json())\n",
    "      .then(data => {\n",
    "        console.log('User registration successful:', data);\n",
    "        alert('Registration successful!');\n",
    "        // Optionally, you can show a success message or redirect the user\n",
    "      })\n",
    "      .catch(error => {\n",
    "        console.error('Error registering user:', error);\n",
    "        alert('Registration failed. Please try again.');\n",
    "        // Handle error, show error message, etc.\n",
    "      });\n",
    "    }"
   ]
  },
  {
   "cell_type": "markdown",
   "metadata": {},
   "source": [
    "2. Verfying Users"
   ]
  },
  {
   "cell_type": "code",
   "execution_count": null,
   "metadata": {
    "vscode": {
     "languageId": "plaintext"
    }
   },
   "outputs": [],
   "source": [
    "    function loginUser() {\n",
    "      const username = document.getElementById(\"usernameInput\").value;\n",
    "      const password = document.getElementById(\"passwordInput\").value;\n",
    "\n",
    "      // Make a POST request to check login credentials\n",
    "      fetch('http://127.0.0.1:5000/login', {\n",
    "        method: 'POST',\n",
    "        headers: {\n",
    "          'Content-Type': 'application/json',\n",
    "        },\n",
    "        body: JSON.stringify({\n",
    "          username: username,\n",
    "          password: password,\n",
    "        }),\n",
    "      })\n",
    "      .then(response => {\n",
    "        if (response.ok) {\n",
    "          console.log('Login successful');\n",
    "          alert('Login succesful, redirecting you to the main page');\n",
    "          // Optionally, you can redirect the user to another link\n",
    "          window.location.href = 'https://srivaidyas.github.io/student2.0/AD_compsci.html';\n",
    "        } else {\n",
    "          console.log('Login failed');\n",
    "          alert('Login failed, please check you credentials');\n",
    "          // Optionally, you can show an error message\n",
    "        }\n",
    "      })\n",
    "      .catch(error => {\n",
    "        console.error('Error:', error);\n",
    "        // Handle error, show error message, etc.\n",
    "      });\n",
    "    }"
   ]
  }
 ],
 "metadata": {
  "kernelspec": {
   "display_name": "Python 3.9.12 ('base')",
   "language": "python",
   "name": "python3"
  },
  "language_info": {
   "name": "python",
   "version": "3.9.12 (main, Apr  5 2022, 01:53:17) \n[Clang 12.0.0 ]"
  },
  "orig_nbformat": 4,
  "vscode": {
   "interpreter": {
    "hash": "8b82d5009c68ba5675978267e2b13a671f2a7143d61273c5a3813c97e0b2493d"
   }
  }
 },
 "nbformat": 4,
 "nbformat_minor": 2
}
